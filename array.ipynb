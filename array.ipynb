{
 "cells": [
  {
   "cell_type": "code",
   "execution_count": 12,
   "id": "231e3205",
   "metadata": {},
   "outputs": [
    {
     "name": "stdout",
     "output_type": "stream",
     "text": [
      "[45, 34, 67]\n"
     ]
    }
   ],
   "source": [
    "from array import *\n",
    "def array_list(np): \n",
    "    num_list = np.tolist() \n",
    "    print(num_list) \n",
    "    np = array('i', [45,34,67]) \n",
    "array_list(np) "
   ]
  },
  {
   "cell_type": "code",
   "execution_count": 14,
   "id": "1443d444",
   "metadata": {},
   "outputs": [
    {
     "name": "stdout",
     "output_type": "stream",
     "text": [
      "[[3]]\n"
     ]
    }
   ],
   "source": [
    "import numpy as np \n",
    "              \n",
    "gfg = np.matrix('[0, 1; 2, 3]') \n",
    "              \n",
    "geek = gfg.trace() \n",
    "    \n",
    "print(geek) "
   ]
  },
  {
   "cell_type": "code",
   "execution_count": 62,
   "id": "1f6e0b73",
   "metadata": {},
   "outputs": [
    {
     "name": "stdout",
     "output_type": "stream",
     "text": [
      "[1, 2, 3, 5]\n"
     ]
    }
   ],
   "source": [
    "a = [1, 2, 3, 5] \n",
    "  \n",
    "a1 = []\n",
    "for i in a : \n",
    "    if i > 2 : \n",
    "        a1 = a\n",
    "    else:\n",
    "        a1=[]\n",
    "print (a1)"
   ]
  },
  {
   "cell_type": "code",
   "execution_count": 64,
   "id": "0a1fc3a9",
   "metadata": {},
   "outputs": [
    {
     "name": "stdout",
     "output_type": "stream",
     "text": [
      "[1 4 7 9]\n"
     ]
    }
   ],
   "source": [
    "import numpy as np\n",
    " \n",
    "A = np.array([1, 2, 3, 4])\n",
    "B = np.array([0, 2, 4, 5])\n",
    "\n",
    "C = np.add(A, B)\n",
    "\n",
    "print(C)"
   ]
  },
  {
   "cell_type": "code",
   "execution_count": 66,
   "id": "8df630e9",
   "metadata": {},
   "outputs": [
    {
     "name": "stdout",
     "output_type": "stream",
     "text": [
      "[10, 20, 30]\n",
      "20.0\n"
     ]
    }
   ],
   "source": [
    "import numpy as np\n",
    "\n",
    "arr = [10, 20, 30]\n",
    "print(arr)\n",
    "print(np.mean(arr))"
   ]
  },
  {
   "cell_type": "code",
   "execution_count": null,
   "id": "1667f748",
   "metadata": {},
   "outputs": [],
   "source": []
  }
 ],
 "metadata": {
  "kernelspec": {
   "display_name": "Python 3 (ipykernel)",
   "language": "python",
   "name": "python3"
  },
  "language_info": {
   "codemirror_mode": {
    "name": "ipython",
    "version": 3
   },
   "file_extension": ".py",
   "mimetype": "text/x-python",
   "name": "python",
   "nbconvert_exporter": "python",
   "pygments_lexer": "ipython3",
   "version": "3.9.7"
  }
 },
 "nbformat": 4,
 "nbformat_minor": 5
}
